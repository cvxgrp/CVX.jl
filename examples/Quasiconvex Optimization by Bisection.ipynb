{
 "cells": [
  {
   "cell_type": "markdown",
   "metadata": {},
   "source": [
    "## Solve the Quasiconvex problem by Convex feasibility and Bisection Search\n",
    "A quasiconvex problem is defined as - \n",
    "\n",
    "\\begin{array}\n",
    "   \\mbox{minimize}    & f_0(x)\\\\\n",
    "   \\mbox{subject to}  & f_i(x) \\leq 0  \\\\ \n",
    "   & Ax = b\n",
    "\\end{array}\n",
    "\n",
    "where $f_0 : \\mathbb{R}^n \\rightarrow \\mathbb{R}$ is Quasiconvex and the remaining functions are convex. \n",
    "\n",
    "Here we can have locally optimal solutions that are not globally optimal.\n",
    " \n",
    "Quasiconvex functions have the useful property that their sub-level sets are convex. We can exploit this to construct an algorithm to solve a Quasiconvex Problem.\n",
    "\n",
    "If $f_0$ is Quasiconvex, then there exists a family of functions $\\phi_t(x)$ that are convex in $x$ for a fixed $t$ such that - $f_0(x) \\leq t \\Leftrightarrow \\phi_t(x) \\leq 0$\n",
    "\n",
    "Using this we constuct a convex feasibility problem for a fixed t- \n",
    "\\begin{array}\n",
    "\\mbox{Find } & x \\\\ \n",
    "\\mbox{subject to} &  \\phi_t(x) \\leq 0 \\\\\n",
    "& f_i(x) \\leq 0  \\\\\n",
    " & Ax = b\n",
    "\\end{array}\n",
    "\n",
    "We can now use the Bisection Method in the following way - \n",
    "\n",
    "Given $l \\le p^* \\le u$ , tolerance $\\alpha > 0$\n",
    "\n",
    "Repeat \n",
    "  1. $t := \\frac{l+u}{2}$\n",
    "  2. Solve the corresponding Convex Feasibilty Problem\n",
    "  3. If feasible , $u:=t$ , else $l:=t$\n",
    "  4. Until $|u-l| < \\alpha$\n",
    "\n",
    "Lets now consider a sample instance - \n",
    "\n",
    "\\begin{array}\n",
    "\\mbox{minimize}    & \\mbox{ciel}(x)\\\\\n",
    "\\mbox{subject to}  & 3x > 0  \\\\ \n",
    "\\end{array}\n",
    "\n",
    "over the interval $(a,b)$ = $(1,128)$ with tolerance - 1 \n",
    "Answer should be got in $$\\log_2 \\left( \\frac{b-a}{e}\\right)$$ iterations \n",
    "\n",
    "Expected Solution : \n",
    "Last interval - (1,2)\n",
    "Optimal point estimate - 1.5\n",
    "Optimal value estimate - 2\n"
   ]
  },
  {
   "cell_type": "code",
   "execution_count": 67,
   "metadata": {
    "collapsed": false
   },
   "outputs": [
    {
     "data": {
      "text/plain": [
       "qcbisect (generic function with 2 methods)"
      ]
     },
     "execution_count": 67,
     "metadata": {},
     "output_type": "execute_result"
    }
   ],
   "source": [
    "using Convex,SCS\n",
    "\n",
    "function qcbisect(a::Int64,b::Int64,n::Int64,err::Int64)\n",
    "    while((b-a)>err)\n",
    "        t = convert(Int64,round((a + b)/2)) \n",
    "        x = Variable()\n",
    "    \n",
    "        constraint1 = x <= t\n",
    "        constraint2 = 3*x > 5\n",
    "        constraints = [constraint1,constraint2]\n",
    "        \n",
    "        problem = minimize(0,constraints)\n",
    "    \n",
    "        solve!(problem,SCSSolver(verbose=0));\n",
    "    \n",
    "        #println(problem.status)\n",
    "        if(problem.status==:Infeasible)\n",
    "            break;\n",
    "        end\n",
    "        \n",
    "        if(problem.status==:Optimal)\n",
    "            b = t\n",
    "        else\n",
    "            a = t\n",
    "        end\n",
    "        println(\"\\n A is $a and B is $b \\n\")\n",
    "    end\n",
    "    return (a+b)/2;\n",
    "    end \n",
    "\n",
    "#set the best estimate for x and the error bound\n",
    "#println(\"\\n A is $a and B is $b \\n\")\n"
   ]
  },
  {
   "cell_type": "code",
   "execution_count": 72,
   "metadata": {
    "collapsed": false
   },
   "outputs": [
    {
     "name": "stdout",
     "output_type": "stream",
     "text": [
      "\n",
      " A is 1 and B is 64 \n",
      "\n"
     ]
    },
    {
     "data": {
      "text/plain": [
       "1.5"
      ]
     },
     "execution_count": 72,
     "metadata": {},
     "output_type": "execute_result"
    },
    {
     "name": "stdout",
     "output_type": "stream",
     "text": [
      "\n",
      " A is 1 and B is 32 \n",
      "\n",
      "\n",
      " A is 1 and B is 16 \n",
      "\n",
      "\n",
      " A is 1 and B is 8 \n",
      "\n",
      "\n",
      " A is 1 and B is 4 \n",
      "\n",
      "\n",
      " A is 1 and B is 2 \n",
      "\n"
     ]
    }
   ],
   "source": [
    "qcbisect(1,128,7,1)"
   ]
  },
  {
   "cell_type": "code",
   "execution_count": null,
   "metadata": {
    "collapsed": true
   },
   "outputs": [],
   "source": []
  },
  {
   "cell_type": "code",
   "execution_count": null,
   "metadata": {
    "collapsed": true
   },
   "outputs": [],
   "source": []
  }
 ],
 "metadata": {
  "kernelspec": {
   "display_name": "Julia 0.4.2",
   "language": "julia",
   "name": "julia-0.4"
  },
  "language_info": {
   "file_extension": ".jl",
   "mimetype": "application/julia",
   "name": "julia",
   "version": "0.4.2"
  }
 },
 "nbformat": 4,
 "nbformat_minor": 0
}
